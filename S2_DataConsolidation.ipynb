{
 "cells": [
  {
   "cell_type": "markdown",
   "metadata": {
    "toc": true
   },
   "source": [
    "<h1>Table of Contents<span class=\"tocSkip\"></span></h1>\n",
    "<div class=\"toc\"><ul class=\"toc-item\"><li><span><a href=\"#Close-Prices-and-Volumes-consolidation-to-DataFrame\" data-toc-modified-id=\"Close-Prices-and-Volumes-consolidation-to-DataFrame-1\"><span class=\"toc-item-num\">1&nbsp;&nbsp;</span>Close Prices and Volumes consolidation to DataFrame</a></span></li></ul></div>"
   ]
  },
  {
   "cell_type": "markdown",
   "metadata": {},
   "source": [
    "**General Description**\n",
    "- Opening, parsing and combining all loaded files with quote prices to single DataFrame have been done in this notebook\n",
    "- Data loaded from csv-files from `data/quotes/..csv`\n",
    "- Output DataFrame saved into `datasets/df_prices.csv`\n",
    "- All operations of opening ~10k files and recording data to the DataFrame takes about 4 hours, that's why this part of the Project's code is put on separate notebook\n",
    "- Commodities and Financial Statements Data will be used only on selected tickers (after clusterization) and not processed in this notebook\n",
    "- Because this process can take up to 3 hours, it is recommended to not run this code, the DataFrame already prepared and loaded to GoogleDrive"
   ]
  },
  {
   "cell_type": "code",
   "execution_count": 1,
   "metadata": {},
   "outputs": [],
   "source": [
    "# necessary modules\n",
    "import numpy as np\n",
    "import pandas as pd\n",
    "import os\n",
    "import json\n",
    "import csv\n",
    "import time\n",
    "import warnings\n",
    "from datetime import date as dt\n",
    "\n",
    "warnings.filterwarnings('ignore')"
   ]
  },
  {
   "cell_type": "markdown",
   "metadata": {},
   "source": [
    "### Close Prices and Volumes consolidation to DataFrame"
   ]
  },
  {
   "cell_type": "code",
   "execution_count": 2,
   "metadata": {},
   "outputs": [],
   "source": [
    "# Merging all quote tables\n",
    "# attention: this cell can takes up to 3 hours!\n",
    "\n",
    "quotes_file_list = os.listdir('data/quotes')\n",
    "ticker_list = [i[:-11] for i in quotes_file_list]\n",
    "quotes_collection = dict.fromkeys(ticker_list)\n",
    "\n",
    "for file, label in zip(quotes_file_list, ticker_list):\n",
    "    path = f'data/quotes/{file}'\n",
    "    with open(path, 'r') as f:\n",
    "        df = pd.read_csv(f)\n",
    "        df = df.drop(columns=['Unnamed: 0'], axis=1)\n",
    "        quotes_collection[label] = df\n",
    "\n",
    "progress_scanner_int = 1000\n",
    "start_time = time.time()\n",
    "internal_time = time.time()\n",
    "\n",
    "for idx, key in enumerate(ticker_list): # будет заменено на dict values\n",
    "    df = quotes_collection[key].copy()\n",
    "    df_dates = pd.to_datetime(df['date'], format='%Y-%m-%d')\n",
    "    df.set_index(df_dates, inplace=True)\n",
    "    df_prices = pd.DataFrame(df['close'])\n",
    "    df_prices = df_prices.rename(columns={'close': key})\n",
    "    if idx==0:\n",
    "        df_prices_raw = df_prices.copy()\n",
    "    else:\n",
    "        df_prices_raw = df_prices_raw.join(df_prices, on=None, how='outer', lsuffix='_')\n",
    "        \n",
    "    if idx%progress_scanner_int == 0:\n",
    "        print(f'{idx} tables merged in {time.time()-internal_time} sec')\n",
    "        print(50*'.')\n",
    "        internal_time = time.time()\n",
    "\n",
    "#print(f'tables for {len(df_volumes_raw)} companies loaded in {time.time()-start_time} sec')\n",
    "\n",
    "with open('datasets/df_prices.csv', 'w', encoding='utf-8') as f:\n",
    "    df_prices_raw.to_csv(f, encoding='utf-8', columns=df_prices_raw.columns)"
   ]
  }
 ],
 "metadata": {
  "kernelspec": {
   "display_name": "tf_Gpu",
   "language": "python",
   "name": "tensorflow_gpu"
  },
  "language_info": {
   "codemirror_mode": {
    "name": "ipython",
    "version": 3
   },
   "file_extension": ".py",
   "mimetype": "text/x-python",
   "name": "python",
   "nbconvert_exporter": "python",
   "pygments_lexer": "ipython3",
   "version": "3.7.4"
  },
  "toc": {
   "base_numbering": 1,
   "nav_menu": {},
   "number_sections": true,
   "sideBar": true,
   "skip_h1_title": true,
   "title_cell": "Table of Contents",
   "title_sidebar": "Contents",
   "toc_cell": true,
   "toc_position": {},
   "toc_section_display": true,
   "toc_window_display": false
  },
  "varInspector": {
   "cols": {
    "lenName": 16,
    "lenType": 16,
    "lenVar": 40
   },
   "kernels_config": {
    "python": {
     "delete_cmd_postfix": "",
     "delete_cmd_prefix": "del ",
     "library": "var_list.py",
     "varRefreshCmd": "print(var_dic_list())"
    },
    "r": {
     "delete_cmd_postfix": ") ",
     "delete_cmd_prefix": "rm(",
     "library": "var_list.r",
     "varRefreshCmd": "cat(var_dic_list()) "
    }
   },
   "types_to_exclude": [
    "module",
    "function",
    "builtin_function_or_method",
    "instance",
    "_Feature"
   ],
   "window_display": false
  }
 },
 "nbformat": 4,
 "nbformat_minor": 2
}

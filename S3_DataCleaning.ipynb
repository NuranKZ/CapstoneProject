{
 "cells": [
  {
   "cell_type": "markdown",
   "metadata": {
    "toc": true
   },
   "source": [
    "<h1>Table of Contents<span class=\"tocSkip\"></span></h1>\n",
    "<div class=\"toc\"><ul class=\"toc-item\"><li><span><a href=\"#Basic-imports-and-functions-and-data-loading\" data-toc-modified-id=\"Basic-imports-and-functions-and-data-loading-1\"><span class=\"toc-item-num\">1&nbsp;&nbsp;</span>Basic imports and functions and data loading</a></span></li><li><span><a href=\"#Defining-subset-of-companies-based-on-time-intersection-and-dealing-with-missing-data\" data-toc-modified-id=\"Defining-subset-of-companies-based-on-time-intersection-and-dealing-with-missing-data-2\"><span class=\"toc-item-num\">2&nbsp;&nbsp;</span>Defining subset of companies based on time intersection and dealing with missing data</a></span></li><li><span><a href=\"#Preparing-Datasets\" data-toc-modified-id=\"Preparing-Datasets-3\"><span class=\"toc-item-num\">3&nbsp;&nbsp;</span>Preparing Datasets</a></span></li></ul></div>"
   ]
  },
  {
   "cell_type": "markdown",
   "metadata": {},
   "source": [
    "**DESCRIPTION**\n",
    "\n",
    "This notebook contains code which make Data Cleaning operations. In order to do that efficiently, some EDA and visualization were applied here.\n",
    "\n",
    "**Data Cleaning Process**\n",
    "- Only 2 datasets were preprocessed here:\n",
    "  - Company Profiles\n",
    "  - Company Quotes\n",
    "- Realized steps:\n",
    "  - defining tickers in profiles with absense of quotes\n",
    "  - defining period of time with most quotes available\n",
    "  - replacing inter-period missing values in quotes (interpolation method)\n",
    "  - EDA on categorical variables in Profiles and identyfying minor groups\n",
    "  - defining and replacing missing values in Profiles\n",
    "- Data Conversion\n",
    "  - After cleaning processes, for Prices additional PCT-operation was applied for clustering Stage\n",
    "  - All cleaned datasets saved to `datasets` folder for next stages usage\n",
    "\n",
    "\n",
    "**Functions used**\n",
    "- `create_grouped_df` - return DataFrame grouped by given param name from original DataFrame\n",
    "- `check_and_replace_inf` - identify and replace np.inf to np.nan"
   ]
  },
  {
   "cell_type": "markdown",
   "metadata": {},
   "source": [
    "### Basic imports and functions and data loading"
   ]
  },
  {
   "cell_type": "code",
   "execution_count": 1,
   "metadata": {},
   "outputs": [],
   "source": [
    "# 1.1. necessary modules\n",
    "import numpy as np\n",
    "import pandas as pd\n",
    "import os\n",
    "import csv\n",
    "import time\n",
    "import warnings\n",
    "from datetime import date as dt\n",
    "import pickle\n",
    "import matplotlib.pyplot as plt\n",
    "import seaborn as sns\n",
    "import math\n",
    "\n",
    "%matplotlib inline\n",
    "warnings.filterwarnings('ignore')"
   ]
  },
  {
   "cell_type": "code",
   "execution_count": 2,
   "metadata": {},
   "outputs": [],
   "source": [
    "# 1.2. import funtions from project_lib\n",
    "\n",
    "from project_lib import create_grouped_df, check_and_replace_inf"
   ]
  },
  {
   "cell_type": "code",
   "execution_count": 3,
   "metadata": {},
   "outputs": [],
   "source": [
    "# 1.3. Data Loading (only profiles and quotes)\n",
    "\n",
    "with open('data/profiles.csv', 'r', encoding='utf-8') as f:\n",
    "    df_profiles = pd.read_csv(f, encoding='utf-8')\n",
    "    df_profiles = df_profiles.drop(columns=['Unnamed: 0'], axis=1)\n",
    "    \n",
    "\n",
    "with open('datasets/df_prices.csv', 'r', encoding='utf-8') as f:\n",
    "    df_prices_raw = pd.read_csv(f, encoding='utf-8')"
   ]
  },
  {
   "cell_type": "markdown",
   "metadata": {},
   "source": [
    "### Defining subset of companies based on time intersection and dealing with missing data"
   ]
  },
  {
   "cell_type": "code",
   "execution_count": 4,
   "metadata": {},
   "outputs": [
    {
     "name": "stdout",
     "output_type": "stream",
     "text": [
      "number of comps from profile list without quotes: 245\n"
     ]
    }
   ],
   "source": [
    "# 2.1. Check profiles and datetime settings\n",
    "\n",
    "no_quotes_comps = set(df_profiles.symbol.values) - set(df_prices_raw.columns[1:])\n",
    "\n",
    "index_to_drop = []\n",
    "for idx in df_profiles.index:\n",
    "    if df_profiles.loc[idx, 'symbol'] in no_quotes_comps:\n",
    "        index_to_drop.append(idx)\n",
    "df_profiles = df_profiles.drop(index=index_to_drop, axis=0)\n",
    "        \n",
    "try:\n",
    "    df_dates = pd.to_datetime(df_prices_raw['date'], format='%Y-%m-%d')\n",
    "    df_prices_raw['date'] = df_dates\n",
    "    df_prices_raw = df_prices_raw.set_index('date')\n",
    "except Exception:\n",
    "    pass\n",
    "\n",
    "print(f'number of comps from profile list without quotes: {len(no_quotes_comps)}')"
   ]
  },
  {
   "cell_type": "markdown",
   "metadata": {},
   "source": [
    "245 companies will be dropped from `df_profiles` dataframe"
   ]
  },
  {
   "cell_type": "code",
   "execution_count": 5,
   "metadata": {},
   "outputs": [
    {
     "data": {
      "image/png": "[encoded data removed]",
      "text/plain": [
       "<Figure size 1296x288 with 1 Axes>"
      ]
     },
     "metadata": {
      "needs_background": "light"
     },
     "output_type": "display_data"
    }
   ],
   "source": [
    "# 2.2. Discovering available time periods in quotes\n",
    "\n",
    "start_dates = [pd.Timestamp(2016,1,4), pd.Timestamp(2017,1,4), pd.Timestamp(2018,1,4)]\n",
    "end_dates = [pd.Timestamp(2020,1,6), pd.Timestamp(2020,3,6)]\n",
    "\n",
    "comp_collections = dict()\n",
    "\n",
    "for s in start_dates:\n",
    "    for e in end_dates:\n",
    "        d_key = str(s.date())+\":\"+str(e.date())\n",
    "        comps = []\n",
    "        for comp in df_prices_raw.columns:\n",
    "            start_price = df_prices_raw.loc[s, comp]\n",
    "            end_price = df_prices_raw.loc[e, comp]\n",
    "            if not math.isnan(start_price) and not math.isnan(end_price):\n",
    "                comps.append(comp)\n",
    "        comp_collections[d_key] = (len(comps), comps)\n",
    "\n",
    "x, y = [], []\n",
    "for key, value in comp_collections.items():\n",
    "    x.append(key)\n",
    "    y.append(value[0])\n",
    "\n",
    "plt.figure(figsize=(18,4))\n",
    "sns.barplot(x,y)\n",
    "plt.title('number of companies available for selected period')\n",
    "plt.show()\n",
    "\n",
    "chosen_start_date = pd.Timestamp(2016,1,4)\n",
    "chosen_end_date = pd.Timestamp(2020,1,6)\n",
    "chosen_tickers = comp_collections[str(chosen_start_date.date())+\":\"+str(chosen_end_date.date())][1]"
   ]
  },
  {
   "cell_type": "markdown",
   "metadata": {},
   "source": [
    "As shown above:\n",
    "- In average - 70-75% of tickers are available\n",
    "- For next steps  {2016-01-04: 2020-01-06} as main period was chosen\n",
    "- Number of companies available for this period ~ 6900 companise inside"
   ]
  },
  {
   "cell_type": "code",
   "execution_count": 6,
   "metadata": {},
   "outputs": [],
   "source": [
    "# 2.3. Slicing Data by Chosen Period for Prices and Profiles\n",
    "df_prices_raw_filtered = df_prices_raw[chosen_tickers]\n",
    "\n",
    "index_to_drop = []\n",
    "for idx in df_profiles.index:\n",
    "    if df_profiles.loc[idx, 'symbol'] not in chosen_tickers:\n",
    "        index_to_drop.append(idx)\n",
    "    \n",
    "df_profiles_filtered = df_profiles.drop(index=index_to_drop, axis=0)"
   ]
  },
  {
   "cell_type": "markdown",
   "metadata": {},
   "source": [
    "In total - 6897 companies remained"
   ]
  },
  {
   "cell_type": "code",
   "execution_count": 7,
   "metadata": {},
   "outputs": [
    {
     "name": "stdout",
     "output_type": "stream",
     "text": [
      "total nans = 238303 (3.19%)\n",
      "average number of nans per company: 35\n"
     ]
    }
   ],
   "source": [
    "# 2.4. Dealing with Inter-period NANS\n",
    "\n",
    "total_nans = df_prices_raw_filtered.isna().sum().sum()\n",
    "avg_nan_per_company = total_nans / df_prices_raw_filtered.shape[1]\n",
    "\n",
    "print(f'total nans = {total_nans} ({100*total_nans/df_prices_raw_filtered.size:.2f}%)')\n",
    "print(f'average number of nans per company: {avg_nan_per_company:.0f}')\n",
    "\n",
    "# 4.1. Replacing nans by interpolate method\n",
    "for comp in df_prices_raw_filtered.columns:\n",
    "    df_prices_raw_filtered[comp] = df_prices_raw_filtered[comp].interpolate()"
   ]
  },
  {
   "cell_type": "markdown",
   "metadata": {},
   "source": [
    "For replacing NANs in prices - interpolation method was chosen"
   ]
  },
  {
   "cell_type": "code",
   "execution_count": 8,
   "metadata": {},
   "outputs": [
    {
     "name": "stdout",
     "output_type": "stream",
     "text": [
      "missing values per column\n",
      "------------------------------\n"
     ]
    },
    {
     "data": {
      "text/plain": [
       "symbol            0\n",
       "companyName      49\n",
       "sector          929\n",
       "industry        929\n",
       "exchange          0\n",
       "description     100\n",
       "ceo            3178\n",
       "mktCap           44\n",
       "dtype: int64"
      ]
     },
     "metadata": {},
     "output_type": "display_data"
    },
    {
     "name": "stdout",
     "output_type": "stream",
     "text": [
      "------------------------------\n",
      "average marker cap is 6.5 billion usd\n"
     ]
    },
    {
     "data": {
      "image/png": "[encoded data removed]",
      "text/plain": [
       "<Figure size 1152x360 with 2 Axes>"
      ]
     },
     "metadata": {
      "needs_background": "light"
     },
     "output_type": "display_data"
    }
   ],
   "source": [
    "# 2.5. Identifying NANS and filling categorical variables in Profiles\n",
    "\n",
    "print('missing values per column')\n",
    "print(30*'-')\n",
    "display(df_profiles_filtered.isna().sum())\n",
    "print(30*'-')\n",
    "\n",
    "df_profiles_filtered.industry = df_profiles_filtered.industry.fillna(value='diversified')\n",
    "df_profiles_filtered.sector = df_profiles_filtered.sector.fillna(value='diversified')\n",
    "\n",
    "# 5.2. EDA on MarketCap\n",
    "avg_mktcap = df_profiles_filtered.mktCap.mean()\n",
    "print(f'average marker cap is {avg_mktcap/1e9:.1f} billion usd')\n",
    "\n",
    "df_by_sector = create_grouped_df('sector', df_profiles_filtered)\n",
    "df_by_exchange = create_grouped_df('exchange', df_profiles_filtered)\n",
    "\n",
    "fig, ax = plt.subplots(1,2, figsize=(16,5))\n",
    "ax[0].set_title('grouped by Sector')\n",
    "ax[1].set_title('grouped by Exchange')\n",
    "sns.barplot(data=df_by_sector.T, orient='h', ax=ax[0])\n",
    "sns.barplot(data=df_by_exchange.T, orient='h', ax=ax[1])\n",
    "plt.tight_layout()\n",
    "plt.show()"
   ]
  },
  {
   "cell_type": "markdown",
   "metadata": {},
   "source": [
    "From above:\n",
    "- There are some NANS in categorical features in Profiles\n",
    "- Averaged market cap per group presented in the plots \n",
    "- All missing values in Sector and Industry were included to new category (for both features) - Diversified\n",
    "- Missing values for {name, ceo, description} not replaced, since those features will not used in next steps\n",
    "- Missing values in mktCap will be replaced bellow"
   ]
  },
  {
   "cell_type": "code",
   "execution_count": 9,
   "metadata": {},
   "outputs": [],
   "source": [
    "# 5.3. Filling NANS in mktCap\n",
    "\n",
    "nan_index = [i for i in df_profiles_filtered.index if math.isnan(df_profiles_filtered.mktCap.loc[i])]\n",
    "for idx in nan_index:\n",
    "    sect = df_profiles_filtered.sector.loc[idx]\n",
    "    avg_mktcap = float(df_by_sector.loc[df_by_sector.index == sect].mktCap)\n",
    "    df_profiles_filtered.mktCap.loc[idx] = avg_mktcap\n",
    "\n",
    "avg_mktcap = df_profiles_filtered.mktCap.mean() # for 2 unidentified samples\n",
    "df_profiles_filtered.mktCap = df_profiles_filtered.mktCap.fillna(avg_mktcap)"
   ]
  },
  {
   "cell_type": "markdown",
   "metadata": {},
   "source": [
    "Missing values in mktCap was replaced with averaged per group (sector) values"
   ]
  },
  {
   "cell_type": "markdown",
   "metadata": {},
   "source": [
    "### Preparing Datasets"
   ]
  },
  {
   "cell_type": "code",
   "execution_count": 10,
   "metadata": {},
   "outputs": [
    {
     "data": {
      "image/png": "[encoded data removed]",
      "text/plain": [
       "<Figure size 1152x360 with 1 Axes>"
      ]
     },
     "metadata": {
      "needs_background": "light"
     },
     "output_type": "display_data"
    }
   ],
   "source": [
    "# 3.1. Visual look on mktCap\n",
    "\n",
    "fig, ax = plt.subplots(1,1, figsize=(16,5))\n",
    "mktcap = df_profiles_filtered.mktCap\n",
    "ax.set_xscale('log')\n",
    "axes=sns.kdeplot(mktcap)\n",
    "plt.show()"
   ]
  },
  {
   "cell_type": "markdown",
   "metadata": {},
   "source": [
    "As it shown above, mktCap density is highly left-skewed (x-axis - in logarithmic scale).  \n",
    "Because of that, I will not categorize it and use for modelling."
   ]
  },
  {
   "cell_type": "code",
   "execution_count": 11,
   "metadata": {},
   "outputs": [
    {
     "name": "stdout",
     "output_type": "stream",
     "text": [
      "generated nans before interpolation: 624\n",
      "generated nans after pad-interpolation: 474\n",
      "in GHG: 4 inf values\n",
      "in GIX: 22 inf values\n",
      "in LIG.LS: 2 inf values\n",
      "in MLGEQ.PA: 1 inf values\n",
      "in OSW: 136 inf values\n",
      "in RCP: 1 inf values\n",
      "in UBX: 4 inf values\n",
      "generated nans after inf-replacement: 644\n",
      "nans still for in ['GHG', 'GIX', 'LIG.LS', 'MLGEQ.PA', 'OSW', 'RCP', 'UBX']\n",
      "generated nans after excluding comps: 0\n"
     ]
    }
   ],
   "source": [
    "# 3.2. DataSet for Modelling\n",
    "# -- attention: this cell takes up to 3 minutes\n",
    "\n",
    "# PCT\n",
    "df_prices_pct = df_prices_raw_filtered.pct_change()\n",
    "df_prices_pct = df_prices_pct.iloc[1:]\n",
    "print(f'generated nans before interpolation: {df_prices_pct.isna().sum().sum()}')\n",
    "\n",
    "# Interpolation\n",
    "for comp in df_prices_pct.columns:\n",
    "    df_prices_pct[comp] = df_prices_pct[comp].interpolate()\n",
    "print(f'generated nans after pad-interpolation: {df_prices_pct.isna().sum().sum()}')\n",
    "\n",
    "# checking Inf numbers\n",
    "df_prices_pct = check_and_replace_inf(df_prices_pct, show_inf=True)\n",
    "print(f'generated nans after inf-replacement: {df_prices_pct.isna().sum().sum()}')\n",
    "\n",
    "# nan-replacement\n",
    "comps_with_nans = []\n",
    "for comp in df_prices_pct.columns:\n",
    "    if df_prices_pct[comp].isna().sum()>0:\n",
    "        comps_with_nans.append(comp)\n",
    "\n",
    "print(f'nans still for in {comps_with_nans}')\n",
    "df_prices_pct = df_prices_pct.drop(columns=comps_with_nans, axis=1)\n",
    "print(f'generated nans after excluding comps: {df_prices_pct.isna().sum().sum()}')"
   ]
  },
  {
   "cell_type": "markdown",
   "metadata": {},
   "source": [
    "The following manipulations done in datasets:\n",
    "- for clusterization purposes NetPriceMargin will be used instead of Prices\n",
    "  - NetPriceMargin = (P(t) - P(t-1)) / P(t-1)\n",
    "  - such type of normalization neutralize price scale differences between companies\n",
    "  - pandas function `pct_change()` is used for that\n",
    "- after pct np.nan could be generated, so missing values additionally identified and replaced with pad-interpolation\n",
    "- first date were dropped from the dataframe"
   ]
  },
  {
   "cell_type": "code",
   "execution_count": 12,
   "metadata": {},
   "outputs": [],
   "source": [
    "# 3.3 Saving created and modified dataframes to DATASETS folder\n",
    "\n",
    "# 4.1. saving cleaned stock prices\n",
    "with open('datasets/df_prices_cleaned.csv', 'w', encoding='utf-8') as f:\n",
    "    df_prices_raw_filtered.to_csv(f, encoding='utf-8', columns=df_prices_raw_filtered.columns)\n",
    "\n",
    "# 4.2.saving cleaned stock prices Delta Margin\n",
    "with open('datasets/df_prices_margin_cleaned.csv', 'w', encoding='utf-8') as f:\n",
    "    df_prices_pct.to_csv(f, encoding='utf-8', columns=df_prices_pct.columns)\n",
    "\n",
    "# 4.3. saving cleaned profile dataframe\n",
    "with open('datasets/df_profiles_cleaned.csv', 'w', encoding='utf-8') as f:\n",
    "    df_profiles_filtered.to_csv(f, encoding='utf-8', columns=df_profiles_filtered.columns)\n",
    "    "
   ]
  }
 ],
 "metadata": {
  "kernelspec": {
   "display_name": "tf_Gpu",
   "language": "python",
   "name": "tensorflow_gpu"
  },
  "language_info": {
   "codemirror_mode": {
    "name": "ipython",
    "version": 3
   },
   "file_extension": ".py",
   "mimetype": "text/x-python",
   "name": "python",
   "nbconvert_exporter": "python",
   "pygments_lexer": "ipython3",
   "version": "3.7.4"
  },
  "toc": {
   "base_numbering": 1,
   "nav_menu": {},
   "number_sections": true,
   "sideBar": true,
   "skip_h1_title": true,
   "title_cell": "Table of Contents",
   "title_sidebar": "Contents",
   "toc_cell": true,
   "toc_position": {},
   "toc_section_display": true,
   "toc_window_display": false
  },
  "varInspector": {
   "cols": {
    "lenName": 16,
    "lenType": 16,
    "lenVar": 40
   },
   "kernels_config": {
    "python": {
     "delete_cmd_postfix": "",
     "delete_cmd_prefix": "del ",
     "library": "var_list.py",
     "varRefreshCmd": "print(var_dic_list())"
    },
    "r": {
     "delete_cmd_postfix": ") ",
     "delete_cmd_prefix": "rm(",
     "library": "var_list.r",
     "varRefreshCmd": "cat(var_dic_list()) "
    }
   },
   "types_to_exclude": [
    "module",
    "function",
    "builtin_function_or_method",
    "instance",
    "_Feature"
   ],
   "window_display": false
  }
 },
 "nbformat": 4,
 "nbformat_minor": 2
}
